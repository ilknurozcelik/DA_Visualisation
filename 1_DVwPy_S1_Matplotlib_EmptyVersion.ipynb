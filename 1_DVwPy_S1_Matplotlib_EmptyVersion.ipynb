{
 "cells": [
  {
   "cell_type": "markdown",
   "metadata": {
    "id": "G7QuT2utsGuT"
   },
   "source": [
    "___\n",
    "\n",
    "<p style=\"text-align: center;\"><img src=\"https://docs.google.com/uc?id=1lY0Uj5R04yMY3-ZppPWxqCr5pvBLYPnV\" class=\"img-fluid\" \n",
    "alt=\"CLRSWY\"></p>\n",
    "\n",
    "## <p style=\"background-color:#FDFEFE; font-family:newtimeroman; color:#9d4f8c; font-size:100%; text-align:center; border-radius:10px 10px;\">WAY TO REINVENT YOURSELF</p>"
   ]
  },
  {
   "cell_type": "markdown",
   "metadata": {
    "id": "TjYCZ_khsGua"
   },
   "source": [
    "![image.png](https://i.ibb.co/4gc0nbk/matplotlib.png)\n",
    "\n",
    "Matplotlib is a two-dimensional (2D) plotting library for Python. It was created by John D. Hunter, an American neurobiologist, and was first released in 2002. With Matplotlib, you can generate lines, scatter graphs, bar charts, histograms, error bars, etc, and even do simple 3D plots using the mplot3d toolkit. Matplotlib has a module called Pyplot, which provides an interface similar to MatLab.\n",
    "\n",
    "[MATPLOTLIB Source](https://medium.com/@developit19/matplotlib-python-651fd07e9234)"
   ]
  },
  {
   "cell_type": "markdown",
   "metadata": {
    "id": "N6bADU0ysGub"
   },
   "source": [
    "<a id=\"toc\"></a>\n",
    "\n",
    "## <p style=\"background-color:#9d4f8c; font-family:newtimeroman; color:#FFF9ED; font-size:150%; text-align:center; border-radius:10px 10px;\">CONTENT</p>\n",
    "\n",
    "* [DATA VISUALIZATION WITH MATPLOTLIB](#0)\n",
    "* [INSTALLING MATPLOTLIB LIBRARY TO LOCAL DIRECTORY](#1)\n",
    "* [IMPORTING LIBRARIES NEEDED IN THIS NOTEBOOK](#2)\n",
    "    * [What does matplotlib inline do?](#2.1)\n",
    "* [INTRODUCTION](#3)\n",
    "* [MATPLOTLIB BASICS](#4)\n",
    "* [LINEPLOTS (SERIES/DATAFRAMES)](#5) \n",
    "    * [What is a line plot and why use it?](#5.1)\n",
    "* [2 METHODS USED TO CREATE PLOTS IN MATPLOTLIB](#6)        \n",
    "* [FUNCTIONAL METHOD](#7)\n",
    "* [OBJECT-ORIENTED METHOD](#8)\n",
    "    * [Basic Graph](#8)\n",
    "    * [Multiple-Line in the Same Graph](#8.1)\n",
    "    * [Adding Axes](#8.2)\n",
    "    * [Subplot](#8.3)\n",
    "    * [How to Manipulate Color?](#8.4)\n",
    "    * [How to Manipulate Figure Size?](#8.5)\n",
    "* [LINEWIDTH & LINESTYLES & MARKERS & MARKERSIZE & COLOR](#9)\n",
    "    * [Linewidth](#9)\n",
    "    * [LineStyles](#9.1)\n",
    "    * [Legend](#9.2)\n",
    "    * [How to Plot Range & Add Extra Line](#9.3)\n",
    "    * [Some Additional Exercises](#9.4)\n",
    "* [OTHER PLOTS](#10)\n",
    "* [PANDAS](#11)\n",
    "    * [Manual Spacing on Subplots()](#11.1)\n",
    "* [THE END OF THE MATPLOTLIB SESSION 01](#12)    "
   ]
  },
  {
   "cell_type": "markdown",
   "metadata": {
    "id": "yqLjI2_eUmfZ"
   },
   "source": [
    "## <p style=\"background-color:#9d4f8c; font-family:newtimeroman; color:#FFF9ED; font-size:150%; text-align:center; border-radius:10px 10px;\">DATA VISUALIZATION WITH MATPLOTLIB</p>\n",
    "\n",
    "<a id=\"0\"></a>\n",
    "<a href=\"#toc\" class=\"btn btn-primary btn-sm\" role=\"button\" aria-pressed=\"true\" \n",
    "style=\"color:blue; background-color:#dfa8e4\" data-toggle=\"popover\">Content</a>\n",
    "\n",
    "## Objectives\n",
    "\n",
    "After completing this part of your Machine Learning (ML) course you will be able to:\n",
    "\n",
    "-   Create Data Visualization with Python\n",
    "-   Use various Python libraries for visualization\n",
    "    - Matplotlib\n",
    "    - Seaborn"
   ]
  },
  {
   "cell_type": "markdown",
   "metadata": {
    "id": "8faulAr2sGue"
   },
   "source": [
    "## <p style=\"background-color:#9d4f8c; font-family:newtimeroman; color:#FFF9ED; font-size:150%; text-align:center; border-radius:10px 10px;\">INSTALLING MATPLOTLIB LIBRARY TO LOCAL DIRECTORY</p>\n",
    "\n",
    "<a id=\"1\"></a>\n",
    "<a href=\"#toc\" class=\"btn btn-primary btn-sm\" role=\"button\" aria-pressed=\"true\" \n",
    "style=\"color:blue; background-color:#dfa8e4\" data-toggle=\"popover\">Content</a>\n",
    "\n",
    "**To use matplotlib, we need to install it.**\n",
    "\n",
    "- Step 1 − Make sure Python and pip is preinstalled on your system\n",
    "\n",
    "Type the following commands in the command prompt to check is python and pip is installed on your system.\n",
    "\n",
    "**To check Python**\n",
    "\n",
    "- python --version\n",
    "\n",
    "If python is successfully installed, the version of python installed on your system will be displayed.\n",
    "\n",
    "**To check pip**\n",
    "\n",
    "- pip -V\n",
    "\n",
    "The version of pip will be displayed, if it is successfully installed on your system.\n",
    "\n",
    "- Step 2 − Install Matplotlib\n",
    "\n",
    "Matplotlib can be installed using pip. The following command is run in the command prompt to install Matplotlib.\n",
    "\n",
    "- pip install matplotlib\n",
    "\n",
    "This command will start downloading and installing packages related to the matplotlib library. Once done, the message of successful installation will be displayed.\n",
    "\n",
    "- Step 3 − Check if it is installed successfully\n",
    "\n",
    "To verify that matplotlib is successfully installed on your system, execute the following command in the command prompt. If matplotlib is successfully installed, the version of matplotlib installed will be displayed.\n",
    "\n",
    "- import matplotlib\n",
    "\n",
    "- matplotlib.__version__\n",
    "\n",
    "[SOURCE](https://www.tutorialspoint.com/how-to-install-matplotlib-in-python)"
   ]
  },
  {
   "cell_type": "code",
   "execution_count": null,
   "metadata": {
    "id": "exjg1cu4U-x_"
   },
   "outputs": [],
   "source": [
    "# !pip install matplotlib"
   ]
  },
  {
   "cell_type": "code",
   "execution_count": null,
   "metadata": {
    "colab": {
     "base_uri": "https://localhost:8080/"
    },
    "id": "7SyZDRZq_ziH",
    "outputId": "9ccc49dc-45a0-4f5c-9911-edb06bb2d491",
    "scrolled": true
   },
   "outputs": [
    {
     "name": "stdout",
     "output_type": "stream",
     "text": [
      "3.3.4\n"
     ]
    }
   ],
   "source": [
    "print(matplotlib.__version__)"
   ]
  },
  {
   "cell_type": "markdown",
   "metadata": {
    "id": "dZjtXhFvsGuk"
   },
   "source": [
    "## <p style=\"background-color:#9d4f8c; font-family:newtimeroman; color:#FFF9ED; font-size:150%; text-align:center; border-radius:10px 10px;\">IMPORTING LIBRARIES NEEDED IN THIS NOTEBOOK</p>\n",
    "\n",
    "<a id=\"2\"></a>\n",
    "<a href=\"#toc\" class=\"btn btn-primary btn-sm\" role=\"button\" aria-pressed=\"true\" \n",
    "style=\"color:blue; background-color:#dfa8e4\" data-toggle=\"popover\">Content</a>"
   ]
  },
  {
   "cell_type": "code",
   "execution_count": null,
   "metadata": {
    "id": "-huz4SqU_ziE"
   },
   "outputs": [],
   "source": [
    "import numpy as np\n",
    "\n",
    "import matplotlib\n",
    "import matplotlib.pyplot as plt\n",
    "\n",
    "import warnings;\n",
    "warnings.filterwarnings('ignore')"
   ]
  },
  {
   "cell_type": "markdown",
   "metadata": {
    "id": "qrUP3Wk_6Qj4"
   },
   "source": [
    "**NOTE: If you are using an older version of jupyter, you need to run a \"magic\" command to see the plots inline with the notebook. Users of jupyter notebook 1.0 and above, don't need to run the cell below:**"
   ]
  },
  {
   "cell_type": "markdown",
   "metadata": {
    "id": "W-S1m99OsGum"
   },
   "source": [
    "#### <p style=\"background-color:#9d4f8c; font-family:newtimeroman; color:#FFF9ED; font-size:150%; text-align:LEFT; border-radius:10px 10px;\">What does matplotlib inline do?</p>\n",
    "\n",
    "<a id=\"2.1\"></a>\n",
    "<a href=\"#toc\" class=\"btn btn-primary btn-sm\" role=\"button\" aria-pressed=\"true\" \n",
    "style=\"color:blue; background-color:#dfa8e4\" data-toggle=\"popover\">Content</a>\n",
    "\n",
    "%matplotlib inline sets the backend of matplotlib to the 'inline' backend: With this backend, the output of plotting commands is displayed inline within frontends like the Jupyter notebook, directly below the code cell that produced it. The resulting plots will then also be stored in the notebook document.\n",
    "\n",
    "[SOURCE](https://stackoverflow.com/questions/43027980/purpose-of-matplotlib-inline#:~:text=%25matplotlib%20inline%20sets%20the%20backend,stored%20in%20the%20notebook%20document.)"
   ]
  },
  {
   "cell_type": "code",
   "execution_count": null,
   "metadata": {
    "id": "ttwaP6Jw6SE4"
   },
   "outputs": [],
   "source": [
    "%matplotlib inline"
   ]
  },
  {
   "cell_type": "markdown",
   "metadata": {
    "id": "hMOQzL_tVchP"
   },
   "source": [
    "## <p style=\"background-color:#9d4f8c; font-family:newtimeroman; color:#FFF9ED; font-size:150%; text-align:center; border-radius:10px 10px;\">INTRODUCTION</p>\n",
    "\n",
    "<a id=\"3\"></a>\n",
    "<a href=\"#toc\" class=\"btn btn-primary btn-sm\" role=\"button\" aria-pressed=\"true\" \n",
    "style=\"color:blue; background-color:#dfa8e4\" data-toggle=\"popover\">Content</a>\n",
    "\n",
    "![matplotlib1.png](https://i.ibb.co/jTZFN49/matplotlib1.png)\n",
    "\n",
    "matplotlib.pyplot is a collection of functions that make matplotlib work like MATLAB. Each pyplot function makes some change to a figure: e.g., creates a figure, creates a plotting area in a figure, plots some lines in a plotting area, decorates the plot with labels, etc.\n",
    "\n",
    "In matplotlib.pyplot various states are preserved across function calls, so that it keeps track of things like the current figure and plotting area, and the plotting functions are directed to the current axes (please note that \"axes\" here and in most places in the documentation refers to the axes part of a figure and not the strict mathematical term for more than one axis).\n",
    "\n",
    "Matplotlib is a two-dimensional (2D) plotting library for Python. It was created by John D. Hunter, an American neurobiologist, and was first released in 2002. With Matplotlib, you can generate lines, scatter graphs, bar charts, histograms, error bars, etc, and even do simple 3D plots using the mplot3d toolkit. Matplotlib has a module called Pyplot, which provides an interface similar to MatLab."
   ]
  },
  {
   "cell_type": "markdown",
   "metadata": {
    "id": "kAiNOakp_ziI"
   },
   "source": [
    "## <p style=\"background-color:#9d4f8c; font-family:newtimeroman; color:#FFF9ED; font-size:150%; text-align:center; border-radius:10px 10px;\">MATPLOTLIB BASICS</p>\n",
    "\n",
    "<a id=\"4\"></a>\n",
    "<a href=\"#toc\" class=\"btn btn-primary btn-sm\" role=\"button\" aria-pressed=\"true\" \n",
    "style=\"color:blue; background-color:#dfa8e4\" data-toggle=\"popover\">Content</a>\n",
    "\n",
    "To make necessary statistical inferences, it becomes necessary to visualize your data and Matplotlib is one such solution for the Python users. It is a very powerful plotting library useful for those working with Python and NumPy. The most used module of Matplotib is Pyplot which provides an interface like MATLAB but instead, it uses Python and it is open source.\n",
    "\n",
    "Pyplot is a module of Matplotlib which provides simple functions to add plot elements like lines, images, text, etc. to the current axes in the current figure.\n",
    "\n",
    "[Source](https://towardsdatascience.com/matplotlib-tutorial-learn-basics-of-pythons-powerful-plotting-library-b5d1b8f67596)"
   ]
  },
  {
   "cell_type": "markdown",
   "metadata": {
    "id": "Q9HSVsPKWRwf"
   },
   "source": [
    "## <p style=\"background-color:#9d4f8c; font-family:newtimeroman; color:#FFF9ED; font-size:150%; text-align:center; border-radius:10px 10px;\">LINEPLOTS (SERIES/DATAFRAMES)</p>\n",
    "\n",
    "<a id=\"5\"></a>\n",
    "<a href=\"#toc\" class=\"btn btn-primary btn-sm\" role=\"button\" aria-pressed=\"true\" \n",
    "style=\"color:blue; background-color:#dfa8e4\" data-toggle=\"popover\">Content</a>"
   ]
  },
  {
   "cell_type": "markdown",
   "metadata": {
    "id": "bIAEioNSWWB6"
   },
   "source": [
    "#### <p style=\"background-color:#9d4f8c; font-family:newtimeroman; color:#FFF9ED; font-size:150%; text-align:LEFT; border-radius:10px 10px;\">What is a line plot and why use it?</p>\n",
    "\n",
    "<a id=\"5.1\"></a>\n",
    "<a href=\"#toc\" class=\"btn btn-primary btn-sm\" role=\"button\" aria-pressed=\"true\" \n",
    "style=\"color:blue; background-color:#dfa8e4\" data-toggle=\"popover\">Content</a>\n",
    "\n",
    "A line chart or line plot is a type of plot which displays information as a series of data points called 'markers' connected by straight line segments. It is a basic type of chart common in many fields.\n",
    "Use line plot when you have a continuous data set. These are best suited for trend-based visualizations of data over a period of time.\n"
   ]
  },
  {
   "cell_type": "code",
   "execution_count": null,
   "metadata": {
    "id": "szeiZRI2__yu"
   },
   "outputs": [],
   "source": [
    "x = np.arange(0, 10)\n",
    "y = 2*x"
   ]
  },
  {
   "cell_type": "code",
   "execution_count": null,
   "metadata": {
    "colab": {
     "base_uri": "https://localhost:8080/",
     "height": 265
    },
    "id": "Hdh4b_uOAfgo",
    "outputId": "45ad034a-8c0c-4a96-d1ee-b7f4570dc86d"
   },
   "outputs": [],
   "source": []
  },
  {
   "cell_type": "markdown",
   "metadata": {
    "id": "XM2v3w0XsGuw"
   },
   "source": [
    "**plt. show()** starts an event loop, looks for all currently active figure objects, and opens one or more interactive windows that display your figure or figures.\n",
    "\n",
    "To require or not required depending on where your script is. There are 2 contexts.\n",
    "\n",
    "- Matplotlib is used in a terminal or scripts, plt.show() is a must.\n",
    "\n",
    "- Matplotlib is used in a IPython shell or a notebook (ex: Kaggle), plt.show() is unnecessary.\n",
    "\n",
    "[SOURCE 01](https://stackoverflow.com/questions/54422714/when-is-plt-show-required-to-show-a-plot-and-when-is-it-not) & [SOURCE 02](https://jakevdp.github.io/PythonDataScienceHandbook/04.00-introduction-to-matplotlib.html#:~:text=Plotting%20from%20a%20script,display%20your%20figure%20or%20figures.)"
   ]
  },
  {
   "cell_type": "code",
   "execution_count": null,
   "metadata": {
    "colab": {
     "base_uri": "https://localhost:8080/",
     "height": 282
    },
    "id": "vnPGSQraHNMY",
    "outputId": "edeb451c-99e1-4056-c48a-a6dfffbc0ada"
   },
   "outputs": [],
   "source": []
  },
  {
   "cell_type": "code",
   "execution_count": null,
   "metadata": {
    "colab": {
     "base_uri": "https://localhost:8080/",
     "height": 295
    },
    "id": "X0GmSqwLApZJ",
    "outputId": "439a7939-6b5b-41a4-9fd4-cbf78b8a40d4"
   },
   "outputs": [],
   "source": []
  },
  {
   "cell_type": "code",
   "execution_count": null,
   "metadata": {
    "id": "cZAR9IAHFyjp",
    "outputId": "f438412c-a7ce-4a38-cca4-9ff1b59ffb5b"
   },
   "outputs": [],
   "source": []
  },
  {
   "cell_type": "code",
   "execution_count": null,
   "metadata": {
    "colab": {
     "base_uri": "https://localhost:8080/",
     "height": 265
    },
    "id": "N2cFoLYQ_ziJ",
    "outputId": "e287eed2-cd25-4a91-cf72-838b55b6b29f"
   },
   "outputs": [],
   "source": []
  },
  {
   "cell_type": "code",
   "execution_count": null,
   "metadata": {
    "id": "Vq8Pbeag_ziJ"
   },
   "outputs": [],
   "source": [
    "age = [25, 27, 29, 31, 33, 35, 37, 39, 41, 43, 45]\n",
    "\n",
    "salary = [38496, 42000, 46752, 49320, 53200, 56000, 62316, 64928, 67317, 68748, 73752]"
   ]
  },
  {
   "cell_type": "code",
   "execution_count": null,
   "metadata": {
    "id": "z13qrApXsGuz",
    "outputId": "359b496f-a98a-43a4-b00c-b6d60bad2655"
   },
   "outputs": [
    {
     "data": {
      "text/plain": [
       "11"
      ]
     },
     "execution_count": 18,
     "metadata": {},
     "output_type": "execute_result"
    }
   ],
   "source": [
    "len(age)"
   ]
  },
  {
   "cell_type": "code",
   "execution_count": null,
   "metadata": {
    "id": "6xMeC8L0sGu0",
    "outputId": "4fe3d8bd-c18a-4742-fb8f-691413659206"
   },
   "outputs": [
    {
     "data": {
      "text/plain": [
       "11"
      ]
     },
     "execution_count": 19,
     "metadata": {},
     "output_type": "execute_result"
    }
   ],
   "source": [
    "len(salary)"
   ]
  },
  {
   "cell_type": "code",
   "execution_count": null,
   "metadata": {
    "colab": {
     "base_uri": "https://localhost:8080/",
     "height": 266
    },
    "id": "-8KRMlwv_ziJ",
    "outputId": "723864fb-a07b-4eb0-e2a5-6683260adf3f"
   },
   "outputs": [],
   "source": []
  },
  {
   "cell_type": "code",
   "execution_count": null,
   "metadata": {
    "colab": {
     "base_uri": "https://localhost:8080/",
     "height": 266
    },
    "id": "OyVMyxPZ_ziK",
    "outputId": "0c9c68fd-e605-4fa0-d5ea-b5b1f836e4cc"
   },
   "outputs": [],
   "source": []
  },
  {
   "cell_type": "code",
   "execution_count": null,
   "metadata": {
    "id": "f8uckKqGsGu1",
    "outputId": "2480288a-85d8-46f0-8a08-301728062188"
   },
   "outputs": [],
   "source": []
  },
  {
   "cell_type": "markdown",
   "metadata": {
    "id": "3dCEtDCTsGu1"
   },
   "source": [
    "## <p style=\"background-color:#9d4f8c; font-family:newtimeroman; color:#FFF9ED; font-size:150%; text-align:center; border-radius:10px 10px;\">2 METHODS USED TO CREATE PLOTS IN MATPLOTLIB</p>\n",
    "\n",
    "<a id=\"6\"></a>\n",
    "<a href=\"#toc\" class=\"btn btn-primary btn-sm\" role=\"button\" aria-pressed=\"true\" \n",
    "style=\"color:blue; background-color:#dfa8e4\" data-toggle=\"popover\">Content</a>\n",
    "\n",
    "The Object-Oriented and the Pyplot interfaces (Functional)\n",
    "\n",
    "There are essentially two ways to use Matplotlib:\n",
    "\n",
    "- Explicitly create Figures and Axes, and call methods on them (the \"Object-Oriented (OO) Style\").\n",
    "\n",
    "- Rely on pyplot to automatically create and manage the Figures and Axes, and use pyplot functions for plotting.\n",
    "\n",
    "[SOURCE](https://matplotlib.org/stable/tutorials/introductory/usage.html)"
   ]
  },
  {
   "cell_type": "markdown",
   "metadata": {
    "id": "vOYDqY9ssGu1"
   },
   "source": [
    "![Capture1.PNG](https://i.ibb.co/t8yVKt1/Capture1.png)"
   ]
  },
  {
   "cell_type": "markdown",
   "metadata": {
    "id": "RNMSyNoJsGu2"
   },
   "source": [
    "![Capture2.PNG](https://i.ibb.co/dLMbS51/Capture2.png)"
   ]
  },
  {
   "cell_type": "markdown",
   "metadata": {
    "id": "ZQybLMYssGu2"
   },
   "source": [
    "![Capture3.PNG](https://i.ibb.co/ySrRdXg/Capture3.png)"
   ]
  },
  {
   "cell_type": "markdown",
   "metadata": {
    "id": "QGbd55gcsGu2"
   },
   "source": [
    "![Capture5.PNG](https://i.ibb.co/QQ2BV8Q/Capture5.png)"
   ]
  },
  {
   "cell_type": "markdown",
   "metadata": {
    "id": "tWAbx-0X_ziK"
   },
   "source": [
    "## <p style=\"background-color:#9d4f8c; font-family:newtimeroman; color:#FFF9ED; font-size:150%; text-align:center; border-radius:10px 10px;\">1 - FUNCTIONAL METHOD</p>\n",
    "\n",
    "<a id=\"7\"></a>\n",
    "<a href=\"#toc\" class=\"btn btn-primary btn-sm\" role=\"button\" aria-pressed=\"true\" \n",
    "style=\"color:blue; background-color:#dfa8e4\" data-toggle=\"popover\">Content</a>"
   ]
  },
  {
   "cell_type": "code",
   "execution_count": null,
   "metadata": {
    "colab": {
     "base_uri": "https://localhost:8080/",
     "height": 295
    },
    "id": "ULJyR39c_ziK",
    "outputId": "26fd58bb-7f60-4b38-b64e-8d8eb207fe17"
   },
   "outputs": [],
   "source": []
  },
  {
   "cell_type": "code",
   "execution_count": null,
   "metadata": {
    "id": "1d8XILmYsGu3",
    "outputId": "5fc5c018-dcc5-469d-dbac-d6570758ade0"
   },
   "outputs": [],
   "source": []
  },
  {
   "cell_type": "markdown",
   "metadata": {
    "id": "LlRAb3dr_ziK"
   },
   "source": [
    "## <p style=\"background-color:#9d4f8c; font-family:newtimeroman; color:#FFF9ED; font-size:150%; text-align:center; border-radius:10px 10px;\">2 - OBJECT-ORIENTED METHOD</p>\n",
    "\n",
    "### <p style=\"background-color:#9d4f8c; font-family:newtimeroman; color:#FFF9ED; font-size:150%; text-align:LEFT; border-radius:10px 10px;\">Basic Graph</p>\n",
    "\n",
    "<a id=\"8\"></a>\n",
    "<a href=\"#toc\" class=\"btn btn-primary btn-sm\" role=\"button\" aria-pressed=\"true\" \n",
    "style=\"color:blue; background-color:#dfa8e4\" data-toggle=\"popover\">Content</a>"
   ]
  },
  {
   "cell_type": "code",
   "execution_count": null,
   "metadata": {
    "colab": {
     "base_uri": "https://localhost:8080/",
     "height": 295
    },
    "id": "cthnNlx7_ziL",
    "outputId": "2607014d-d8c8-4b32-cc0f-0e7659b6bfe9"
   },
   "outputs": [],
   "source": []
  },
  {
   "cell_type": "code",
   "execution_count": null,
   "metadata": {
    "id": "Y6Tag7HFsGu4",
    "outputId": "88b0b9b5-ef3e-4d20-a39f-7ed5d9a34890"
   },
   "outputs": [],
   "source": []
  },
  {
   "cell_type": "code",
   "execution_count": null,
   "metadata": {
    "id": "CquYIm6JsGu4",
    "outputId": "f33ce075-8b12-4b2d-a676-3109fa34d78f"
   },
   "outputs": [],
   "source": []
  },
  {
   "cell_type": "code",
   "execution_count": null,
   "metadata": {
    "id": "r_Tf1oyE_ziL"
   },
   "outputs": [],
   "source": [
    "salary_2 = [45372, 48876, 53850, 57287, 63016,\n",
    "            65998, 70003, 70000, 71496, 75370, 83640]"
   ]
  },
  {
   "cell_type": "markdown",
   "metadata": {
    "id": "PlXWwWQI_ziL"
   },
   "source": [
    "### <p style=\"background-color:#9d4f8c; font-family:newtimeroman; color:#FFF9ED; font-size:150%; text-align:LEFT; border-radius:10px 10px;\">Multiple-Line in the Same Graph</p>\n",
    "\n",
    "<a id=\"8.1\"></a>\n",
    "<a href=\"#toc\" class=\"btn btn-primary btn-sm\" role=\"button\" aria-pressed=\"true\" \n",
    "style=\"color:blue; background-color:#dfa8e4\" data-toggle=\"popover\">Content</a>"
   ]
  },
  {
   "cell_type": "code",
   "execution_count": null,
   "metadata": {
    "colab": {
     "base_uri": "https://localhost:8080/",
     "height": 295
    },
    "id": "rHhJ6x0l_ziL",
    "outputId": "be26bcfa-3859-4bf1-ea3e-9f07ad5259f7"
   },
   "outputs": [],
   "source": []
  },
  {
   "cell_type": "code",
   "execution_count": null,
   "metadata": {
    "id": "TgTBEz3JvCpz"
   },
   "outputs": [],
   "source": [
    "x = np.arange(0, 11)\n",
    "y = x.copy()\n",
    "z = x*2\n",
    "t = np.log(x)"
   ]
  },
  {
   "cell_type": "code",
   "execution_count": null,
   "metadata": {
    "colab": {
     "base_uri": "https://localhost:8080/",
     "height": 295
    },
    "id": "QmeswtpcvkKb",
    "outputId": "e5ee141f-19bf-44d7-98e0-534a62730a00"
   },
   "outputs": [],
   "source": []
  },
  {
   "cell_type": "markdown",
   "metadata": {
    "id": "dBcWtb4j_ziM"
   },
   "source": [
    "### <p style=\"background-color:#9d4f8c; font-family:newtimeroman; color:#FFF9ED; font-size:150%; text-align:LEFT; border-radius:10px 10px;\">Adding Axes</p>\n",
    "\n",
    "<a id=\"8.2\"></a>\n",
    "<a href=\"#toc\" class=\"btn btn-primary btn-sm\" role=\"button\" aria-pressed=\"true\" \n",
    "style=\"color:blue; background-color:#dfa8e4\" data-toggle=\"popover\">Content</a>"
   ]
  },
  {
   "cell_type": "code",
   "execution_count": null,
   "metadata": {
    "colab": {
     "base_uri": "https://localhost:8080/",
     "height": 366
    },
    "id": "wsnNxCut_ziM",
    "outputId": "14a43ceb-8aba-47dc-8d89-7c4037781005"
   },
   "outputs": [],
   "source": []
  },
  {
   "cell_type": "code",
   "execution_count": null,
   "metadata": {
    "colab": {
     "base_uri": "https://localhost:8080/",
     "height": 366
    },
    "id": "cc8lg5p__ziM",
    "outputId": "cf3adb18-3fa5-4ca6-d788-a3c4081f3f83"
   },
   "outputs": [],
   "source": []
  },
  {
   "cell_type": "markdown",
   "metadata": {
    "id": "GEAjpWyx_ziN"
   },
   "source": [
    "### <p style=\"background-color:#9d4f8c; font-family:newtimeroman; color:#FFF9ED; font-size:150%; text-align:LEFT; border-radius:10px 10px;\">Subplot</p>\n",
    "\n",
    "<a id=\"8.3\"></a>\n",
    "<a href=\"#toc\" class=\"btn btn-primary btn-sm\" role=\"button\" aria-pressed=\"true\" \n",
    "style=\"color:blue; background-color:#dfa8e4\" data-toggle=\"popover\">Content</a>"
   ]
  },
  {
   "cell_type": "code",
   "execution_count": null,
   "metadata": {
    "colab": {
     "base_uri": "https://localhost:8080/",
     "height": 265
    },
    "id": "Yg0UGBNw_ziN",
    "outputId": "5d41808a-9836-4ad7-8b62-97d7a7b34d86"
   },
   "outputs": [],
   "source": []
  },
  {
   "cell_type": "code",
   "execution_count": null,
   "metadata": {
    "colab": {
     "base_uri": "https://localhost:8080/",
     "height": 265
    },
    "id": "VHwlD6vx_ziN",
    "outputId": "1e735978-2144-4fb6-d385-bfb1232c309d"
   },
   "outputs": [],
   "source": []
  },
  {
   "cell_type": "code",
   "execution_count": null,
   "metadata": {
    "colab": {
     "base_uri": "https://localhost:8080/",
     "height": 266
    },
    "id": "Sv5KGjGK_ziN",
    "outputId": "0f3dce53-4204-4ae8-a801-e4126e7aab28"
   },
   "outputs": [],
   "source": []
  },
  {
   "cell_type": "code",
   "execution_count": null,
   "metadata": {
    "colab": {
     "base_uri": "https://localhost:8080/",
     "height": 297
    },
    "id": "8MKmXOssG5-W",
    "outputId": "f43bc37d-3739-4856-9aad-a8280cf8d764"
   },
   "outputs": [],
   "source": []
  },
  {
   "cell_type": "markdown",
   "metadata": {
    "id": "UwPwUkk2_ziN"
   },
   "source": [
    "### <p style=\"background-color:#9d4f8c; font-family:newtimeroman; color:#FFF9ED; font-size:150%; text-align:LEFT; border-radius:10px 10px;\">How to Manipulate Color?</p>\n",
    "\n",
    "<a id=\"8.4\"></a>\n",
    "<a href=\"#toc\" class=\"btn btn-primary btn-sm\" role=\"button\" aria-pressed=\"true\" \n",
    "style=\"color:blue; background-color:#dfa8e4\" data-toggle=\"popover\">Content</a>"
   ]
  },
  {
   "cell_type": "code",
   "execution_count": null,
   "metadata": {
    "colab": {
     "base_uri": "https://localhost:8080/",
     "height": 297
    },
    "id": "N0i3aQhg_ziO",
    "outputId": "f90a3a28-ea7f-4cd8-fc46-e56d71247674"
   },
   "outputs": [],
   "source": []
  },
  {
   "cell_type": "code",
   "execution_count": null,
   "metadata": {
    "colab": {
     "base_uri": "https://localhost:8080/",
     "height": 297
    },
    "id": "fE9o3kgn_ziO",
    "outputId": "a0c9dca7-5eb4-40e3-cb34-7b437cb0b697"
   },
   "outputs": [],
   "source": []
  },
  {
   "cell_type": "code",
   "execution_count": null,
   "metadata": {
    "colab": {
     "base_uri": "https://localhost:8080/",
     "height": 297
    },
    "id": "yUZEIFaJ_ziO",
    "outputId": "02cbf5bd-aa16-41b3-ec28-acb2c55efd73"
   },
   "outputs": [],
   "source": []
  },
  {
   "cell_type": "markdown",
   "metadata": {
    "id": "VAc_fO35_ziO"
   },
   "source": [
    "### <p style=\"background-color:#9d4f8c; font-family:newtimeroman; color:#FFF9ED; font-size:150%; text-align:LEFT; border-radius:10px 10px;\">How to Manipulate Figure Size</p>\n",
    "\n",
    "<a id=\"8.5\"></a>\n",
    "<a href=\"#toc\" class=\"btn btn-primary btn-sm\" role=\"button\" aria-pressed=\"true\" \n",
    "style=\"color:blue; background-color:#dfa8e4\" data-toggle=\"popover\">Content</a>"
   ]
  },
  {
   "cell_type": "code",
   "execution_count": null,
   "metadata": {
    "colab": {
     "base_uri": "https://localhost:8080/",
     "height": 280
    },
    "id": "ANSHR9j9_ziO",
    "outputId": "53a2b015-31a6-4d7b-fdcc-3d9d03f451b6"
   },
   "outputs": [],
   "source": []
  },
  {
   "cell_type": "code",
   "execution_count": null,
   "metadata": {
    "colab": {
     "base_uri": "https://localhost:8080/",
     "height": 308
    },
    "id": "nMIkMvtK_ziP",
    "outputId": "f19b6bd5-a64e-4599-e2a0-887e7f0e2e3c"
   },
   "outputs": [],
   "source": []
  },
  {
   "cell_type": "markdown",
   "metadata": {
    "id": "Zh2pyvsf_ziP"
   },
   "source": [
    "## <p style=\"background-color:#9d4f8c; font-family:newtimeroman; color:#FFF9ED; font-size:150%; text-align:center; border-radius:10px 10px;\">LINEWIDTH & LINESTYLES & MARKERS & MARKERSIZE & COLOR</p>\n",
    "\n",
    "### <p style=\"background-color:#9d4f8c; font-family:newtimeroman; color:#FFF9ED; font-size:150%; text-align:LEFT; border-radius:10px 10px;\">Linewidth</p>\n",
    "\n",
    "<a id=\"9\"></a>\n",
    "<a href=\"#toc\" class=\"btn btn-primary btn-sm\" role=\"button\" aria-pressed=\"true\" \n",
    "style=\"color:blue; background-color:#dfa8e4\" data-toggle=\"popover\">Content</a>"
   ]
  },
  {
   "cell_type": "code",
   "execution_count": null,
   "metadata": {
    "colab": {
     "base_uri": "https://localhost:8080/"
    },
    "id": "wOzHwGWbL_4_",
    "outputId": "543dee9d-57e8-4189-dd8e-09e70ed983bc"
   },
   "outputs": [
    {
     "data": {
      "text/plain": [
       "array([0, 1, 2, 3, 4, 5, 6, 7, 8, 9])"
      ]
     },
     "execution_count": 56,
     "metadata": {},
     "output_type": "execute_result"
    }
   ],
   "source": [
    "x = np.arange(0, 10)\n",
    "x"
   ]
  },
  {
   "cell_type": "code",
   "execution_count": null,
   "metadata": {
    "colab": {
     "base_uri": "https://localhost:8080/",
     "height": 417
    },
    "id": "LTzWKhdULY--",
    "outputId": "c3cbf35f-3d70-4ba6-c46a-3da21b1d7468"
   },
   "outputs": [],
   "source": []
  },
  {
   "cell_type": "markdown",
   "metadata": {
    "id": "VXrWLnJWMmmw"
   },
   "source": [
    "### <p style=\"background-color:#9d4f8c; font-family:newtimeroman; color:#FFF9ED; font-size:150%; text-align:LEFT; border-radius:10px 10px;\">LineStyles</p>\n",
    "\n",
    "<a id=\"9.1\"></a>\n",
    "<a href=\"#toc\" class=\"btn btn-primary btn-sm\" role=\"button\" aria-pressed=\"true\" \n",
    "style=\"color:blue; background-color:#dfa8e4\" data-toggle=\"popover\">Content</a>"
   ]
  },
  {
   "cell_type": "code",
   "execution_count": null,
   "metadata": {
    "id": "0AKMJG3nsGu_",
    "outputId": "8fc9dd13-15d2-4853-e7ed-bd672ba2e2c8"
   },
   "outputs": [],
   "source": []
  },
  {
   "cell_type": "code",
   "execution_count": null,
   "metadata": {
    "colab": {
     "base_uri": "https://localhost:8080/",
     "height": 374
    },
    "id": "r6g2xFZUMX6q",
    "outputId": "bd7802ae-8333-46f2-ddf4-93f829a73f05",
    "scrolled": true
   },
   "outputs": [],
   "source": []
  },
  {
   "cell_type": "code",
   "execution_count": null,
   "metadata": {
    "colab": {
     "base_uri": "https://localhost:8080/",
     "height": 374
    },
    "id": "op9DZmLsM8Bu",
    "outputId": "cc51096b-4f57-42ba-f507-91fe8fb9f5c5"
   },
   "outputs": [],
   "source": []
  },
  {
   "cell_type": "code",
   "execution_count": null,
   "metadata": {
    "colab": {
     "base_uri": "https://localhost:8080/",
     "height": 452
    },
    "id": "2MFEoL4g_ziP",
    "outputId": "511cf137-95a5-4c9b-d146-210c28e7658b"
   },
   "outputs": [],
   "source": []
  },
  {
   "cell_type": "code",
   "execution_count": null,
   "metadata": {
    "id": "Y8s2nKXr_ziP"
   },
   "outputs": [],
   "source": [
    "color = \"#ff00ff\" # RGB hex code"
   ]
  },
  {
   "cell_type": "code",
   "execution_count": null,
   "metadata": {
    "colab": {
     "base_uri": "https://localhost:8080/",
     "height": 585
    },
    "id": "Nyni0qFR_ziP",
    "outputId": "1aa891cd-0c36-4a91-9732-2c0780aeaaf8"
   },
   "outputs": [],
   "source": []
  },
  {
   "cell_type": "markdown",
   "metadata": {
    "id": "_vEgF_Qo_ziQ"
   },
   "source": [
    "### <p style=\"background-color:#9d4f8c; font-family:newtimeroman; color:#FFF9ED; font-size:150%; text-align:LEFT; border-radius:10px 10px;\">Legend</p>\n",
    "\n",
    "<a id=\"9.2\"></a>\n",
    "<a href=\"#toc\" class=\"btn btn-primary btn-sm\" role=\"button\" aria-pressed=\"true\" \n",
    "style=\"color:blue; background-color:#dfa8e4\" data-toggle=\"popover\">Content</a>"
   ]
  },
  {
   "cell_type": "code",
   "execution_count": null,
   "metadata": {
    "colab": {
     "base_uri": "https://localhost:8080/",
     "height": 295
    },
    "id": "GOsBaWsm_ziQ",
    "outputId": "c816f4bd-45c7-4aec-976c-8962422b4eb3"
   },
   "outputs": [],
   "source": []
  },
  {
   "cell_type": "markdown",
   "metadata": {
    "id": "iBd8PSz0sqcw"
   },
   "source": [
    "legent location\n",
    "\n",
    "- 'best'            0\n",
    "- 'upper right'     1\n",
    "- 'upper left'      2\n",
    "- 'lower left'      3\n",
    "- 'lower right'     4\n",
    "- 'right'           5\n",
    "- 'center left'     6\n",
    "- 'center right'    7\n",
    "- 'lower center'    8\n",
    "- 'upper center'    9"
   ]
  },
  {
   "cell_type": "code",
   "execution_count": null,
   "metadata": {
    "colab": {
     "base_uri": "https://localhost:8080/",
     "height": 295
    },
    "id": "kgUh_xBrsTTf",
    "outputId": "9e2ad49f-fa38-4a30-a47a-df8ea6364cb7"
   },
   "outputs": [],
   "source": []
  },
  {
   "cell_type": "markdown",
   "metadata": {
    "id": "ax-D4i6y_ziQ"
   },
   "source": [
    "### <p style=\"background-color:#9d4f8c; font-family:newtimeroman; color:#FFF9ED; font-size:150%; text-align:LEFT; border-radius:10px 10px;\">How to Plot Range & Add Extra Line</p>\n",
    "\n",
    "<a id=\"9.3\"></a>\n",
    "<a href=\"#toc\" class=\"btn btn-primary btn-sm\" role=\"button\" aria-pressed=\"true\" \n",
    "style=\"color:blue; background-color:#dfa8e4\" data-toggle=\"popover\">Content</a>"
   ]
  },
  {
   "cell_type": "code",
   "execution_count": null,
   "metadata": {
    "colab": {
     "base_uri": "https://localhost:8080/",
     "height": 269
    },
    "id": "_pXuDfzQ_ziQ",
    "outputId": "6fbaa8e9-d2c8-4035-d521-b15779a0690f"
   },
   "outputs": [],
   "source": []
  },
  {
   "cell_type": "code",
   "execution_count": null,
   "metadata": {
    "colab": {
     "base_uri": "https://localhost:8080/",
     "height": 269
    },
    "id": "fm-IUXrv_ziQ",
    "outputId": "197c600e-99ba-46bf-fe3c-5a6ef2ecd79c"
   },
   "outputs": [],
   "source": []
  },
  {
   "cell_type": "code",
   "execution_count": null,
   "metadata": {
    "colab": {
     "base_uri": "https://localhost:8080/",
     "height": 269
    },
    "id": "FdzdKHeG_ziR",
    "outputId": "ff6715e7-19f2-4ab6-ca81-d4a6a5b7ef26",
    "scrolled": true
   },
   "outputs": [],
   "source": []
  },
  {
   "cell_type": "markdown",
   "metadata": {
    "id": "2mNJtkI2_ziR"
   },
   "source": [
    "### <p style=\"background-color:#9d4f8c; font-family:newtimeroman; color:#FFF9ED; font-size:150%; text-align:LEFT; border-radius:10px 10px;\">Some Additional Exercises</p>\n",
    "\n",
    "<a id=\"9.4\"></a>\n",
    "<a href=\"#toc\" class=\"btn btn-primary btn-sm\" role=\"button\" aria-pressed=\"true\" \n",
    "style=\"color:blue; background-color:#dfa8e4\" data-toggle=\"popover\">Content</a>"
   ]
  },
  {
   "cell_type": "markdown",
   "metadata": {
    "id": "IwKRL3mlsGvE"
   },
   "source": [
    "**Matplotlib - Subplot2grid() Function**\n",
    "\n",
    "This function gives more flexibility in creating an axes object at a specific location of the grid. It also allows the axes object to be spanned across multiple rows or columns.\n",
    "\n",
    "**Plt.subplot2grid(shape, location, rowspan, colspan)**\n",
    "\n",
    "In the following example, a 3X3 grid of the figure object is filled with axes objects of varying sizes in row and column spans, each showing a different plot.\n",
    "\n",
    "[SOURCE 01](https://www.tutorialspoint.com/matplotlib/matplotlib_subplot2grid_function.htm), [SOURCE 02](https://medium.com/kodluyoruz/matplotlibde-%C3%A7oklu-%C3%A7izim-nas%C4%B1l-yap%C4%B1l%C4%B1r-subplot-gridspec-b33e2077727c) & [SOURCE 03](https://matplotlib.org/3.1.1/api/_as_gen/matplotlib.pyplot.subplot2grid.html)\n"
   ]
  },
  {
   "cell_type": "code",
   "execution_count": null,
   "metadata": {
    "colab": {
     "base_uri": "https://localhost:8080/",
     "height": 297
    },
    "id": "Ioqva7kE_ziR",
    "outputId": "e370b2fa-0001-40b9-ecc2-79b68cbe9af6"
   },
   "outputs": [
    {
     "data": {
      "image/png": "[encoded data removed]",
      "text/plain": [
       "<Figure size 432x288 with 3 Axes>"
      ]
     },
     "metadata": {
      "needs_background": "light"
     },
     "output_type": "display_data"
    }
   ],
   "source": [
    "# rowspan and colspan\n",
    "\n",
    "plt.figure()\n",
    "a1 = plt.subplot2grid((3, 3),(0, 0), colspan = 2)\n",
    "a2 = plt.subplot2grid((3, 3),(0, 2), rowspan = 3)\n",
    "a3 = plt.subplot2grid((3, 3),(1, 0), rowspan = 2, colspan = 2)\n",
    "\n",
    "x = np.arange(1, 10)\n",
    "\n",
    "a1.plot(x, np.exp(x))\n",
    "a1.set_title('exp')\n",
    "\n",
    "a2.plot(x, x*x)\n",
    "a2.set_title('square')\n",
    "\n",
    "a3.plot(x, np.log(x))\n",
    "a3.set_title('log')\n",
    "\n",
    "plt.tight_layout()\n",
    "plt.show()"
   ]
  },
  {
   "cell_type": "markdown",
   "metadata": {
    "id": "Ulls7kPNaO-j"
   },
   "source": [
    "## <p style=\"background-color:#9d4f8c; font-family:newtimeroman; color:#FFF9ED; font-size:150%; text-align:center; border-radius:10px 10px;\">OTHER PLOTS</p>\n",
    "\n",
    "<a id=\"10\"></a>\n",
    "<a href=\"#toc\" class=\"btn btn-primary btn-sm\" role=\"button\" aria-pressed=\"true\" \n",
    "style=\"color:blue; background-color:#dfa8e4\" data-toggle=\"popover\">Content</a>\n",
    "\n",
    "There are many other plotting styles available other than the default Line plot, all of which can be accessed by passing `kind` keyword to `plot()`. The full list of available plots are as follows:\n",
    "\n",
    "-   `bar` for vertical bar plots\n",
    "-   `barh` for horizontal bar plots\n",
    "-   `hist` for histogram\n",
    "-   `box` for boxplot\n",
    "-   `kde` or `density` for density plots\n",
    "-   `area` for area plots\n",
    "-   `pie` for pie plots\n",
    "-   `scatter` for scatter plots\n",
    "-   `hexbin` for hexbin plot\n"
   ]
  },
  {
   "cell_type": "markdown",
   "metadata": {
    "id": "Z7blPWD-H9uW"
   },
   "source": [
    "## <p style=\"background-color:#9d4f8c; font-family:newtimeroman; color:#FFF9ED; font-size:150%; text-align:center; border-radius:10px 10px;\">PANDAS</p>\n",
    "\n",
    "<a id=\"11\"></a>\n",
    "<a href=\"#toc\" class=\"btn btn-primary btn-sm\" role=\"button\" aria-pressed=\"true\" \n",
    "style=\"color:blue; background-color:#dfa8e4\" data-toggle=\"popover\">Content</a>"
   ]
  },
  {
   "cell_type": "code",
   "execution_count": null,
   "metadata": {
    "colab": {
     "base_uri": "https://localhost:8080/",
     "height": 204
    },
    "id": "NXT-HA4m_ziS",
    "outputId": "64397871-2dd4-402d-e179-f0775350373a"
   },
   "outputs": [
    {
     "data": {
      "text/html": [
       "<div>\n",
       "<style scoped>\n",
       "    .dataframe tbody tr th:only-of-type {\n",
       "        vertical-align: middle;\n",
       "    }\n",
       "\n",
       "    .dataframe tbody tr th {\n",
       "        vertical-align: top;\n",
       "    }\n",
       "\n",
       "    .dataframe thead th {\n",
       "        text-align: right;\n",
       "    }\n",
       "</style>\n",
       "<table border=\"1\" class=\"dataframe\">\n",
       "  <thead>\n",
       "    <tr style=\"text-align: right;\">\n",
       "      <th></th>\n",
       "      <th>age</th>\n",
       "      <th>salary</th>\n",
       "      <th>salary_2</th>\n",
       "    </tr>\n",
       "  </thead>\n",
       "  <tbody>\n",
       "    <tr>\n",
       "      <th>0</th>\n",
       "      <td>25</td>\n",
       "      <td>38496</td>\n",
       "      <td>45372</td>\n",
       "    </tr>\n",
       "    <tr>\n",
       "      <th>1</th>\n",
       "      <td>27</td>\n",
       "      <td>42000</td>\n",
       "      <td>48876</td>\n",
       "    </tr>\n",
       "    <tr>\n",
       "      <th>2</th>\n",
       "      <td>29</td>\n",
       "      <td>46752</td>\n",
       "      <td>53850</td>\n",
       "    </tr>\n",
       "    <tr>\n",
       "      <th>3</th>\n",
       "      <td>31</td>\n",
       "      <td>49320</td>\n",
       "      <td>57287</td>\n",
       "    </tr>\n",
       "    <tr>\n",
       "      <th>4</th>\n",
       "      <td>33</td>\n",
       "      <td>53200</td>\n",
       "      <td>63016</td>\n",
       "    </tr>\n",
       "  </tbody>\n",
       "</table>\n",
       "</div>"
      ],
      "text/plain": [
       "   age  salary  salary_2\n",
       "0   25   38496     45372\n",
       "1   27   42000     48876\n",
       "2   29   46752     53850\n",
       "3   31   49320     57287\n",
       "4   33   53200     63016"
      ]
     },
     "execution_count": 98,
     "metadata": {},
     "output_type": "execute_result"
    }
   ],
   "source": [
    "import pandas as pd\n",
    "\n",
    "df = pd.DataFrame(list(zip(age, salary, salary_2)), columns =['age', 'salary', 'salary_2'])\n",
    "df.head()"
   ]
  },
  {
   "cell_type": "code",
   "execution_count": null,
   "metadata": {
    "colab": {
     "base_uri": "https://localhost:8080/"
    },
    "id": "5MfO_uuB_ziS",
    "outputId": "9e596209-f9e6-4e51-a82b-cd151033a32f"
   },
   "outputs": [
    {
     "data": {
      "text/plain": [
       "0     38496\n",
       "1     42000\n",
       "2     46752\n",
       "3     49320\n",
       "4     53200\n",
       "5     56000\n",
       "6     62316\n",
       "7     64928\n",
       "8     67317\n",
       "9     68748\n",
       "10    73752\n",
       "Name: salary, dtype: int64"
      ]
     },
     "execution_count": 99,
     "metadata": {},
     "output_type": "execute_result"
    }
   ],
   "source": [
    "df['salary']"
   ]
  },
  {
   "cell_type": "code",
   "execution_count": null,
   "metadata": {
    "colab": {
     "base_uri": "https://localhost:8080/",
     "height": 266
    },
    "id": "QcvcwG9D_ziS",
    "outputId": "cabb042e-ffe2-4e18-a0c5-8a5e547686f4"
   },
   "outputs": [
    {
     "data": {
      "image/png": "[encoded data removed]",
      "text/plain": [
       "<Figure size 576x432 with 1 Axes>"
      ]
     },
     "metadata": {
      "needs_background": "light"
     },
     "output_type": "display_data"
    }
   ],
   "source": [
    "plt.figure(figsize=(8, 6))\n",
    "\n",
    "plt.plot(df['salary'])\n",
    "plt.show()"
   ]
  },
  {
   "cell_type": "code",
   "execution_count": null,
   "metadata": {
    "colab": {
     "base_uri": "https://localhost:8080/",
     "height": 266
    },
    "id": "BS3xzofj_ziT",
    "outputId": "8f1f2dd6-3406-425b-c50c-1c0a26fa6abf"
   },
   "outputs": [
    {
     "data": {
      "image/png": "[encoded data removed]",
      "text/plain": [
       "<Figure size 576x432 with 1 Axes>"
      ]
     },
     "metadata": {
      "needs_background": "light"
     },
     "output_type": "display_data"
    }
   ],
   "source": [
    "plt.figure(figsize=(8, 6))\n",
    "\n",
    "plt.plot(df[\"age\"], df[\"salary\"]);    #important index\n",
    "plt.show()"
   ]
  },
  {
   "cell_type": "code",
   "execution_count": null,
   "metadata": {
    "colab": {
     "base_uri": "https://localhost:8080/",
     "height": 266
    },
    "id": "Tfy9BRNi_ziT",
    "outputId": "770dcecb-7cde-40dc-fb66-4e261977fb9b"
   },
   "outputs": [
    {
     "data": {
      "image/png": "[encoded data removed]",
      "text/plain": [
       "<Figure size 576x432 with 1 Axes>"
      ]
     },
     "metadata": {
      "needs_background": "light"
     },
     "output_type": "display_data"
    }
   ],
   "source": [
    "plt.figure(figsize=(8, 6))\n",
    "\n",
    "plt.plot(age, salary)\n",
    "plt.show()"
   ]
  },
  {
   "cell_type": "code",
   "execution_count": null,
   "metadata": {
    "colab": {
     "base_uri": "https://localhost:8080/",
     "height": 308
    },
    "id": "TAE8j7Rg_ziT",
    "outputId": "46cbc9ec-8479-4225-cc0b-bd35a385fbc7"
   },
   "outputs": [
    {
     "data": {
      "image/png": "[encoded data removed]",
      "text/plain": [
       "<Figure size 432x288 with 2 Axes>"
      ]
     },
     "metadata": {
      "needs_background": "light"
     },
     "output_type": "display_data"
    }
   ],
   "source": [
    "fig = plt.figure()\n",
    "\n",
    "ax1 = fig.add_axes([0.0, 0.0, 0.8, 0.8]) # left, bottom, width, height (range 0 to 1)\n",
    "ax1.plot(age,salary, \"r\");\n",
    "ax1.set_xlabel(\"Age\")\n",
    "ax1.set_ylabel(\"Salary\")\n",
    "ax1.set_title(\"Salary by Age\");\n",
    "\n",
    "ax2 = fig.add_axes([0.9, 0.3, 0.4, 0.4])\n",
    "plt.show()"
   ]
  },
  {
   "cell_type": "code",
   "execution_count": null,
   "metadata": {
    "id": "eQ0H9r3fsGvI",
    "outputId": "a079394d-9247-47d2-dba5-167e20caa622"
   },
   "outputs": [
    {
     "data": {
      "image/png": "[encoded data removed]",
      "text/plain": [
       "<Figure size 432x288 with 2 Axes>"
      ]
     },
     "metadata": {
      "needs_background": "light"
     },
     "output_type": "display_data"
    }
   ],
   "source": [
    "fig, ax1 = plt.subplots()\n",
    "\n",
    "ax1.plot(age,salary, \"r\");\n",
    "ax1.set_xlabel(\"Age\")\n",
    "ax1.set_ylabel(\"Salary\")\n",
    "ax1.set_title(\"Salary by Age\");\n",
    "\n",
    "ax2 = fig.add_axes([1, 0.3, 0.4, 0.4])\n",
    "plt.show()"
   ]
  },
  {
   "cell_type": "markdown",
   "metadata": {
    "id": "A806QiOr_ziU"
   },
   "source": [
    "### <p style=\"background-color:#9d4f8c; font-family:newtimeroman; color:#FFF9ED; font-size:150%; text-align:LEFT; border-radius:10px 10px;\">Manual Spacing on Subplots()</p>\n",
    "\n",
    "<a id=\"11.1\"></a>\n",
    "<a href=\"#toc\" class=\"btn btn-primary btn-sm\" role=\"button\" aria-pressed=\"true\" \n",
    "style=\"color:blue; background-color:#dfa8e4\" data-toggle=\"popover\">Content</a>\n",
    "\n",
    "Use .subplots_adjust to adjust spacing manually."
   ]
  },
  {
   "cell_type": "code",
   "execution_count": null,
   "metadata": {
    "colab": {
     "base_uri": "https://localhost:8080/",
     "height": 336
    },
    "id": "h693CSPY_ziU",
    "outputId": "9eecee9e-01df-4ca4-d992-1ff14304f647"
   },
   "outputs": [
    {
     "data": {
      "image/png": "[encoded data removed]",
      "text/plain": [
       "<Figure size 576x360 with 4 Axes>"
      ]
     },
     "metadata": {
      "needs_background": "light"
     },
     "output_type": "display_data"
    }
   ],
   "source": [
    "fig, ax = plt.subplots(2, 2, figsize=(8, 5), sharey=True, sharex=True)\n",
    "\n",
    "ax[0, 0].plot(age, salary, \"r\")\n",
    "ax[0, 0].set_title(\"salary by age\")\n",
    "ax[0, 1].plot(age, salary_2)\n",
    "ax[0, 1].set_title(\"salary_2 by age\")\n",
    "ax[1, 0].plot(age, salary, \"g\")\n",
    "ax[1, 0].set_title(\"salary by age\")\n",
    "ax[1, 1].plot(age, salary_2, \"y\")\n",
    "ax[1, 1].set_title(\"salary_2 by age\")\n",
    "\n",
    "fig.subplots_adjust(left=None,\n",
    "                    bottom=None,\n",
    "                    right=None,\n",
    "                    top=None,\n",
    "                    wspace=0.9,\n",
    "                    hspace=0.5)\n",
    "#plt.tight_layout()\n",
    "\n",
    "plt.show()"
   ]
  },
  {
   "cell_type": "code",
   "execution_count": null,
   "metadata": {
    "colab": {
     "base_uri": "https://localhost:8080/"
    },
    "id": "plVkDLNrIVyk",
    "outputId": "8872b10d-cb48-4d2e-e3a0-2783222f81e6"
   },
   "outputs": [
    {
     "name": "stdout",
     "output_type": "stream",
     "text": [
      "['anagrams', 'anscombe', 'attention', 'brain_networks', 'car_crashes', 'diamonds', 'dots', 'exercise', 'flights', 'fmri', 'gammas', 'geyser', 'iris', 'mpg', 'penguins', 'planets', 'taxis', 'tips', 'titanic']\n"
     ]
    }
   ],
   "source": [
    "import seaborn as sns\n",
    "\n",
    "print(sns.get_dataset_names())"
   ]
  },
  {
   "cell_type": "code",
   "execution_count": null,
   "metadata": {
    "colab": {
     "base_uri": "https://localhost:8080/",
     "height": 204
    },
    "id": "ybILBK8zInV6",
    "outputId": "0d6b3387-f1dd-4f95-a509-5c8c1582bbb6"
   },
   "outputs": [
    {
     "data": {
      "text/html": [
       "<div>\n",
       "<style scoped>\n",
       "    .dataframe tbody tr th:only-of-type {\n",
       "        vertical-align: middle;\n",
       "    }\n",
       "\n",
       "    .dataframe tbody tr th {\n",
       "        vertical-align: top;\n",
       "    }\n",
       "\n",
       "    .dataframe thead th {\n",
       "        text-align: right;\n",
       "    }\n",
       "</style>\n",
       "<table border=\"1\" class=\"dataframe\">\n",
       "  <thead>\n",
       "    <tr style=\"text-align: right;\">\n",
       "      <th></th>\n",
       "      <th>total_bill</th>\n",
       "      <th>tip</th>\n",
       "      <th>sex</th>\n",
       "      <th>smoker</th>\n",
       "      <th>day</th>\n",
       "      <th>time</th>\n",
       "      <th>size</th>\n",
       "    </tr>\n",
       "  </thead>\n",
       "  <tbody>\n",
       "    <tr>\n",
       "      <th>0</th>\n",
       "      <td>16.99</td>\n",
       "      <td>1.01</td>\n",
       "      <td>Female</td>\n",
       "      <td>No</td>\n",
       "      <td>Sun</td>\n",
       "      <td>Dinner</td>\n",
       "      <td>2</td>\n",
       "    </tr>\n",
       "    <tr>\n",
       "      <th>1</th>\n",
       "      <td>10.34</td>\n",
       "      <td>1.66</td>\n",
       "      <td>Male</td>\n",
       "      <td>No</td>\n",
       "      <td>Sun</td>\n",
       "      <td>Dinner</td>\n",
       "      <td>3</td>\n",
       "    </tr>\n",
       "    <tr>\n",
       "      <th>2</th>\n",
       "      <td>21.01</td>\n",
       "      <td>3.50</td>\n",
       "      <td>Male</td>\n",
       "      <td>No</td>\n",
       "      <td>Sun</td>\n",
       "      <td>Dinner</td>\n",
       "      <td>3</td>\n",
       "    </tr>\n",
       "    <tr>\n",
       "      <th>3</th>\n",
       "      <td>23.68</td>\n",
       "      <td>3.31</td>\n",
       "      <td>Male</td>\n",
       "      <td>No</td>\n",
       "      <td>Sun</td>\n",
       "      <td>Dinner</td>\n",
       "      <td>2</td>\n",
       "    </tr>\n",
       "    <tr>\n",
       "      <th>4</th>\n",
       "      <td>24.59</td>\n",
       "      <td>3.61</td>\n",
       "      <td>Female</td>\n",
       "      <td>No</td>\n",
       "      <td>Sun</td>\n",
       "      <td>Dinner</td>\n",
       "      <td>4</td>\n",
       "    </tr>\n",
       "  </tbody>\n",
       "</table>\n",
       "</div>"
      ],
      "text/plain": [
       "   total_bill   tip     sex smoker  day    time  size\n",
       "0       16.99  1.01  Female     No  Sun  Dinner     2\n",
       "1       10.34  1.66    Male     No  Sun  Dinner     3\n",
       "2       21.01  3.50    Male     No  Sun  Dinner     3\n",
       "3       23.68  3.31    Male     No  Sun  Dinner     2\n",
       "4       24.59  3.61  Female     No  Sun  Dinner     4"
      ]
     },
     "execution_count": 117,
     "metadata": {},
     "output_type": "execute_result"
    }
   ],
   "source": [
    "tips = sns.load_dataset(\"tips\")\n",
    "tips.head()"
   ]
  },
  {
   "cell_type": "markdown",
   "metadata": {
    "id": "k8-sVyansGvK"
   },
   "source": [
    "## <p style=\"background-color:#9d4f8c; font-family:newtimeroman; color:#FFF9ED; font-size:150%; text-align:center; border-radius:10px 10px;\">THE END OF THE SESSION 01</p>\n",
    "\n",
    "<a id=\"12\"></a>\n",
    "<a href=\"#toc\" class=\"btn btn-primary btn-sm\" role=\"button\" aria-pressed=\"true\" \n",
    "style=\"color:blue; background-color:#dfa8e4\" data-toggle=\"popover\">Content</a>"
   ]
  },
  {
   "cell_type": "markdown",
   "metadata": {
    "id": "hCCPFeYDIth-"
   },
   "source": [
    "___\n",
    "\n",
    "<p style=\"text-align: center;\"><img src=\"https://docs.google.com/uc?id=1lY0Uj5R04yMY3-ZppPWxqCr5pvBLYPnV\" class=\"img-fluid\" \n",
    "alt=\"CLRSWY\"></p>\n",
    "\n",
    "## <p style=\"background-color:#FDFEFE; font-family:newtimeroman; color:#9d4f8c; font-size:100%; text-align:center; border-radius:10px 10px;\">WAY TO REINVENT YOURSELF</p>\n",
    "___"
   ]
  }
 ],
 "metadata": {
  "colab": {
   "collapsed_sections": [],
   "name": "1-DVwPy_S1_Matplotlib.ipynb",
   "provenance": []
  },
  "kernelspec": {
   "display_name": "Python 3 (ipykernel)",
   "language": "python",
   "name": "python3"
  },
  "language_info": {
   "codemirror_mode": {
    "name": "ipython",
    "version": 3
   },
   "file_extension": ".py",
   "mimetype": "text/x-python",
   "name": "python",
   "nbconvert_exporter": "python",
   "pygments_lexer": "ipython3",
   "version": "3.9.7"
  }
 },
 "nbformat": 4,
 "nbformat_minor": 1
}
