{
 "cells": [
  {
   "cell_type": "code",
   "execution_count": 1,
   "id": "a6f64c5d",
   "metadata": {},
   "outputs": [],
   "source": [
    "import numpy as np\n",
    "import pandas as pd\n",
    "import matplotlib.pyplot as plt\n",
    "\n",
    "# from matplotlib import pyplot as plt    şeklinde de import kullanılabilir"
   ]
  },
  {
   "cell_type": "code",
   "execution_count": 2,
   "id": "b91d2f8f",
   "metadata": {},
   "outputs": [],
   "source": [
    "#  En basit şekilde line plot çizimi\n",
    "\n",
    "# plt.plot(x,y)"
   ]
  },
  {
   "cell_type": "code",
   "execution_count": 3,
   "id": "aa3bebd2",
   "metadata": {},
   "outputs": [
    {
     "name": "stderr",
     "output_type": "stream",
     "text": [
      "UsageError: unrecognized arguments: # çizimleri notebook'ta görebilmek için\n"
     ]
    }
   ],
   "source": [
    "%matplotlib inline  # çizimleri notebook'ta görebilmek için"
   ]
  },
  {
   "cell_type": "code",
   "execution_count": null,
   "id": "86b9f0d5",
   "metadata": {
    "scrolled": true
   },
   "outputs": [],
   "source": [
    "plt.plot([4,5,9])  # verdiğimiz listeyi y değeri olarak alıp çizimi yaptı."
   ]
  },
  {
   "cell_type": "code",
   "execution_count": null,
   "id": "3fee0967",
   "metadata": {},
   "outputs": [],
   "source": [
    "%matplotlib notebook"
   ]
  },
  {
   "cell_type": "code",
   "execution_count": null,
   "id": "85516891",
   "metadata": {},
   "outputs": [],
   "source": [
    "plt.plot([4,5,9], [2,5,8])  # x ve y değerlerini liste olarak ayrı ayrı girdiğimizde"
   ]
  },
  {
   "cell_type": "code",
   "execution_count": null,
   "id": "247595ec",
   "metadata": {},
   "outputs": [],
   "source": [
    "%matplotlib inline"
   ]
  },
  {
   "cell_type": "code",
   "execution_count": null,
   "id": "65860e1c",
   "metadata": {},
   "outputs": [],
   "source": [
    "x = np.arange(0,10)\n",
    "y = x * 2\n",
    "x,y"
   ]
  },
  {
   "cell_type": "code",
   "execution_count": null,
   "id": "c0a91bec",
   "metadata": {},
   "outputs": [],
   "source": [
    "plt.plot(x,y)  # aşağıdaki açıklama objectin tütü ve hafızada tuttuğu yeri gösteriyor.\n",
    "\n",
    "# Bu açıklamanın gelmesini istemiyorsak ya sonuna ; koymalıyız ya da plt.show() komutunu kullanmalıyız."
   ]
  },
  {
   "cell_type": "code",
   "execution_count": null,
   "id": "98abfbf3",
   "metadata": {},
   "outputs": [],
   "source": [
    "a = np.arange(-5,5)\n",
    "b = np.sin(a)\n",
    "c = np.cos(a)\n",
    "a,b,c"
   ]
  },
  {
   "cell_type": "code",
   "execution_count": null,
   "id": "ea60f517",
   "metadata": {},
   "outputs": [],
   "source": [
    "# plotting two variables in one plot\n",
    "\n",
    "plt.plot(a,b, label=\"sinus\")\n",
    "plt.plot(a,c, label = \"cosinus\")\n",
    "plt.legend();"
   ]
  },
  {
   "cell_type": "code",
   "execution_count": null,
   "id": "83ebaf40",
   "metadata": {},
   "outputs": [],
   "source": [
    "# adding x, y coordinate name, legend and title\n",
    "\n",
    "plt.plot(a,b, label=\"sinus\")\n",
    "plt.plot(a,c, label = \"cosinus\")\n",
    "plt.xlabel(\"a values\")\n",
    "plt.ylabel(\"sin and cos of a\")\n",
    "plt.title(\"Title of Graph\")\n",
    "plt.legend();"
   ]
  },
  {
   "cell_type": "code",
   "execution_count": null,
   "id": "381a49ca",
   "metadata": {},
   "outputs": [],
   "source": [
    "# zooming of graph using xlim and ylim\n",
    "\n",
    "plt.plot(a,b, label=\"sinus\")\n",
    "plt.plot(a,c, label = \"cosinus\")\n",
    "plt.xlabel(\"a values\")\n",
    "plt.ylabel(\"sin and cos of a\")\n",
    "plt.title(\"Title of Graph\")\n",
    "plt.xlim(-3,2)\n",
    "plt.ylim(-1,0)\n",
    "plt.legend();"
   ]
  },
  {
   "cell_type": "code",
   "execution_count": null,
   "id": "1399e373",
   "metadata": {},
   "outputs": [],
   "source": [
    "# saving a figure\n",
    "\n",
    "help(plt.savefig)"
   ]
  },
  {
   "cell_type": "code",
   "execution_count": null,
   "id": "2b93ccbf",
   "metadata": {},
   "outputs": [],
   "source": [
    "plt.plot(a,b, label=\"sinus\")\n",
    "plt.plot(a,c, label = \"cosinus\")\n",
    "plt.xlabel(\"a values\")\n",
    "plt.ylabel(\"sin and cos of a\")\n",
    "plt.title(\"Title of Graph\")\n",
    "plt.xlim(-3,2)\n",
    "plt.ylim(-1,0)\n",
    "plt.legend()\n",
    "plt.savefig(\"first.plot.png\");"
   ]
  },
  {
   "cell_type": "code",
   "execution_count": null,
   "id": "dda10804",
   "metadata": {},
   "outputs": [],
   "source": []
  },
  {
   "cell_type": "markdown",
   "id": "31fbfcc4",
   "metadata": {},
   "source": [
    "## Matplotlib Object Oriented Method"
   ]
  },
  {
   "cell_type": "code",
   "execution_count": null,
   "id": "d252e812",
   "metadata": {},
   "outputs": [],
   "source": [
    "a = np.linspace(0,10,11)\n",
    "b = a **4\n",
    "a,b"
   ]
  },
  {
   "cell_type": "code",
   "execution_count": null,
   "id": "495b6832",
   "metadata": {},
   "outputs": [],
   "source": [
    "plt.figure()  # boş bir canvas oluşturmak için"
   ]
  },
  {
   "cell_type": "code",
   "execution_count": null,
   "id": "2b61dfff",
   "metadata": {},
   "outputs": [],
   "source": [
    "# to arrange figsize\n",
    "\n",
    "plt.figure(figsize=(10,6))"
   ]
  },
  {
   "cell_type": "code",
   "execution_count": null,
   "id": "8caf6c15",
   "metadata": {},
   "outputs": [],
   "source": [
    "fig = plt.figure()\n",
    "fig.add_axes([0,0,1,1]);"
   ]
  },
  {
   "cell_type": "code",
   "execution_count": null,
   "id": "007a8e0c",
   "metadata": {},
   "outputs": [],
   "source": [
    "fig = plt.figure()\n",
    "fig.add_axes([0,0,2,2]);"
   ]
  },
  {
   "cell_type": "code",
   "execution_count": null,
   "id": "cfdaefb1",
   "metadata": {},
   "outputs": [],
   "source": [
    "fig = plt.figure()\n",
    "fig.add_axes([0,0,1,1])\n",
    "fig.add_axes([0.2,0.2, 0.5, 0.5]);"
   ]
  },
  {
   "cell_type": "code",
   "execution_count": null,
   "id": "6f3cc3db",
   "metadata": {},
   "outputs": [],
   "source": [
    "fig = plt.figure()\n",
    "axes = fig.add_axes([0,0,1,1])\n",
    "axes.plot(x,y);"
   ]
  },
  {
   "cell_type": "code",
   "execution_count": null,
   "id": "3b8fcc8e",
   "metadata": {},
   "outputs": [],
   "source": [
    "fig1 = plt.figure()\n",
    "axes1 = fig1.add_axes([0,0,1,1])\n",
    "axes1.plot(a,b)\n",
    "\n",
    "axes2 = fig1.add_axes([0.2,0.2,0.5,0.5])\n",
    "axes2.plot(a,b);"
   ]
  },
  {
   "cell_type": "code",
   "execution_count": null,
   "id": "addbe453",
   "metadata": {},
   "outputs": [],
   "source": [
    "fig1 = plt.figure()\n",
    "axes1 = fig1.add_axes([0,0,1,1])\n",
    "axes1.plot(a,b)\n",
    "\n",
    "axes2 = fig1.add_axes([0.2,0.2,0.5,0.5])\n",
    "axes2.plot(a,b)\n",
    "\n",
    "axes3 = fig.add_axes([1,1,0.5,0.5])\n",
    "axes3.plot(a,b);"
   ]
  },
  {
   "cell_type": "code",
   "execution_count": null,
   "id": "584a6f92",
   "metadata": {},
   "outputs": [],
   "source": [
    "fig1 = plt.figure()\n",
    "axes1 = fig1.add_axes([0,0,1,1])\n",
    "axes1.plot(a,b)\n",
    "\n",
    "axes2 = fig1.add_axes([0.2,0.2,0.5,0.5])\n",
    "axes2.plot(a,b)\n",
    "\n",
    "axes3 = fig1.add_axes([1,1,0.5,0.5])\n",
    "axes3.plot(a,b);"
   ]
  },
  {
   "cell_type": "code",
   "execution_count": null,
   "id": "dbd470f2",
   "metadata": {},
   "outputs": [],
   "source": [
    "fig1 = plt.figure()\n",
    "axes1 = fig1.add_axes([0,0,1,1])\n",
    "axes1.plot(a,b)\n",
    "\n",
    "axes2 = fig1.add_axes([0.2,0.2,0.5,0.5])\n",
    "axes2.plot(a,b)\n",
    "\n",
    "axes3 = fig1.add_axes([1,1,1,1])\n",
    "axes3.plot(a,b);"
   ]
  },
  {
   "cell_type": "code",
   "execution_count": null,
   "id": "28a1180a",
   "metadata": {},
   "outputs": [],
   "source": [
    "fig1 = plt.figure()\n",
    "axes1 = fig1.add_axes([0,0,1,1])\n",
    "axes1.plot(a,b)\n",
    "\n",
    "axes2 = fig1.add_axes([0.2,0.2,0.5,0.5])\n",
    "axes2.plot(a,b)\n",
    "\n",
    "axes3 = fig1.add_axes([1,0,1,1])\n",
    "axes3.plot(a,b);"
   ]
  },
  {
   "cell_type": "code",
   "execution_count": null,
   "id": "21671bab",
   "metadata": {},
   "outputs": [],
   "source": [
    "fig1 = plt.figure()\n",
    "axes1 = fig1.add_axes([0,0,1,1])\n",
    "axes1.plot(a,b)\n",
    "\n",
    "axes2 = fig1.add_axes([0.2,0.2,0.5,0.5])\n",
    "axes2.plot(a,b)\n",
    "\n",
    "axes3 = fig1.add_axes([0,1,1,1])\n",
    "axes3.plot(a,b);"
   ]
  },
  {
   "cell_type": "code",
   "execution_count": null,
   "id": "8f71d64c",
   "metadata": {},
   "outputs": [],
   "source": [
    "fig = plt.figure()\n",
    "axes1 = fig.add_axes([0,0,1,1])\n",
    "axes1.plot(a,b)\n",
    "axes1.set_xlabel(\"X label\")\n",
    "axes1.set_ylabel(\"Y label\")\n",
    "axes1.set_title(\"Large Figure\")\n",
    "\n",
    "axes2 = fig.add_axes([0.1,0.5,0.4,0.4])\n",
    "axes2.plot(a,b)\n",
    "axes2.set_xlim(2,4)\n",
    "axes2.set_ylim(0, 1000);"
   ]
  },
  {
   "cell_type": "code",
   "execution_count": null,
   "id": "2b81f786",
   "metadata": {},
   "outputs": [],
   "source": [
    "fig = plt.figure(figsize=(12,8), dpi=100)  # dpi : inch başı çözünürlük. Ne kadar yüksek olursa RAM'i o kadar çok kullanır.\n",
    "axes1 = fig.add_axes([0,0,1,1])\n",
    "\n",
    "axes1.plot(a,b)"
   ]
  },
  {
   "cell_type": "code",
   "execution_count": null,
   "id": "4aabbfcb",
   "metadata": {},
   "outputs": [],
   "source": [
    "fig = plt.figure(figsize=(12,8), dpi=100)  # dpi : inch başı çözünürlük. Ne kadar yüksek olursa RAM'i o kadar çok kullanır.\n",
    "axes1 = fig.add_axes([0,0,1,1])\n",
    "\n",
    "axes1.plot(a,b)\n",
    "\n",
    "fig.savefig(\"second_fig.png\");  # Bu şekilde kaydedilince axis değerleri kaydedilen dosyada görünmüyor."
   ]
  },
  {
   "cell_type": "code",
   "execution_count": null,
   "id": "f0781dc0",
   "metadata": {},
   "outputs": [],
   "source": [
    "fig = plt.figure(figsize=(12,8), dpi=100)  # dpi : inch başı çözünürlük. Ne kadar yüksek olursa RAM'i o kadar çok kullanır.\n",
    "axes1 = fig.add_axes([0,0,1,1])\n",
    "\n",
    "axes1.plot(a,b)\n",
    "\n",
    "fig.savefig(\"second_fig.png\", bbox_inches=\"tight\");  # kaydederken bbox_inches parametresini kullandığımızda axis değerleri dosyada görünür hale gelir."
   ]
  },
  {
   "cell_type": "code",
   "execution_count": null,
   "id": "14103035",
   "metadata": {},
   "outputs": [],
   "source": [
    "fig = plt.figure()\n",
    "axes1 = fig.add_axes([0,0,1,1])\n",
    "axes1.plot(a,b)\n",
    "axes1.set_xlabel(\"X label\")\n",
    "axes1.set_ylabel(\"Y label\")\n",
    "axes1.set_title(\"Large Figure\")\n",
    "\n",
    "axes2 = fig.add_axes([0.1,0.5,0.4,0.4])\n",
    "axes2.plot(a,b)\n",
    "axes2.set_xlim(2,4)\n",
    "axes2.set_ylim(0, 1000);"
   ]
  },
  {
   "cell_type": "markdown",
   "id": "4501e807",
   "metadata": {},
   "source": [
    "## Subplots"
   ]
  },
  {
   "cell_type": "code",
   "execution_count": null,
   "id": "81e8e40a",
   "metadata": {},
   "outputs": [],
   "source": [
    "a,b"
   ]
  },
  {
   "cell_type": "code",
   "execution_count": null,
   "id": "e0c68e0c",
   "metadata": {},
   "outputs": [],
   "source": [
    "x,y"
   ]
  },
  {
   "cell_type": "code",
   "execution_count": null,
   "id": "ec256cb2",
   "metadata": {},
   "outputs": [],
   "source": [
    "# plotting one figure using plt.subplots()\n",
    "\n",
    "fig, axes = plt.subplots()\n",
    "axes.plot(x,y, \"r\")\n",
    "axes.set_xlabel(\"X label\")\n",
    "axes.set_ylabel(\"Y label\")\n",
    "axes.set_title(\"Title\");"
   ]
  },
  {
   "cell_type": "code",
   "execution_count": null,
   "id": "6c9fa646",
   "metadata": {},
   "outputs": [],
   "source": [
    "fig, axes = plt.subplots(nrows=1, ncols=2);"
   ]
  },
  {
   "cell_type": "code",
   "execution_count": null,
   "id": "0daf1d2f",
   "metadata": {},
   "outputs": [],
   "source": [
    "axes"
   ]
  },
  {
   "cell_type": "code",
   "execution_count": null,
   "id": "4c0c3247",
   "metadata": {},
   "outputs": [],
   "source": [
    "axes.shape"
   ]
  },
  {
   "cell_type": "code",
   "execution_count": null,
   "id": "b267fc67",
   "metadata": {},
   "outputs": [],
   "source": [
    "fig, axes = plt.subplots(nrows=2, ncols=2);"
   ]
  },
  {
   "cell_type": "code",
   "execution_count": null,
   "id": "84e12259",
   "metadata": {},
   "outputs": [],
   "source": [
    "axes"
   ]
  },
  {
   "cell_type": "code",
   "execution_count": null,
   "id": "116b8b78",
   "metadata": {},
   "outputs": [],
   "source": [
    "axes.shape"
   ]
  },
  {
   "cell_type": "code",
   "execution_count": null,
   "id": "e1bea843",
   "metadata": {},
   "outputs": [],
   "source": [
    "fig, axes = plt.subplots(nrows=1, ncols=2)\n",
    "\n",
    "for axe in axes:\n",
    "    axe.plot(x,y);"
   ]
  },
  {
   "cell_type": "code",
   "execution_count": null,
   "id": "b689490b",
   "metadata": {},
   "outputs": [],
   "source": [
    "fig, axes = plt.subplots(nrows=1, ncols=2)\n",
    "axes[0].plot(a,b);"
   ]
  },
  {
   "cell_type": "code",
   "execution_count": null,
   "id": "5e8c5804",
   "metadata": {},
   "outputs": [],
   "source": [
    "fig, axes = plt.subplots(nrows=1, ncols=2)\n",
    "axes[0].plot(a,b)\n",
    "axes[1].plot(x,y);"
   ]
  },
  {
   "cell_type": "code",
   "execution_count": null,
   "id": "7754530d",
   "metadata": {},
   "outputs": [],
   "source": [
    "fig, axes = plt.subplots(nrows=2, ncols=2)\n",
    "axes[0][0].plot(a,b)\n",
    "axes[0,1].plot(x,y);\n",
    "axes[1,0].plot(x, np.sqrt(x))\n",
    "axes[1][1].plot(a, np.sqrt(b));"
   ]
  },
  {
   "cell_type": "code",
   "execution_count": null,
   "id": "1ff57624",
   "metadata": {},
   "outputs": [],
   "source": [
    "fig, axes = plt.subplots(nrows=2, ncols=2)\n",
    "axes[0][0].plot(a,b)\n",
    "axes[0,1].plot(x,y);\n",
    "axes[1,0].plot(x, np.sqrt(x))\n",
    "axes[1][1].plot(a, np.sqrt(b))\n",
    "plt.tight_layout();  # to arrange the length between graphs"
   ]
  },
  {
   "cell_type": "code",
   "execution_count": null,
   "id": "15f9fb26",
   "metadata": {},
   "outputs": [],
   "source": [
    "fig, axes = plt.subplots(nrows=2, ncols=2)\n",
    "axes[0][0].plot(a,b)\n",
    "axes[0,1].plot(x,y);\n",
    "axes[1,0].plot(x, np.sqrt(x))\n",
    "axes[1][1].plot(a, np.sqrt(b))\n",
    "plt.tight_layout(pad=3, h_pad=3, w_pad=3);"
   ]
  },
  {
   "cell_type": "code",
   "execution_count": null,
   "id": "4d7d1752",
   "metadata": {},
   "outputs": [],
   "source": [
    "fig, axes = plt.subplots(nrows=2, ncols=2)\n",
    "axes[0][0].plot(a,b)\n",
    "axes[0,0].plot(a,b/2)\n",
    "axes[0,0].set_xlabel(\"X label\")\n",
    "axes[0,0].set_ylabel(\"Y label\")\n",
    "axes[0,0].set_title(\"Title\")\n",
    "axes[0,0].legend([\"cos\",\"cos/2\"])  # adding legend to axes[0,0] plot\n",
    "fig.legend([\"cos\",\"cos/2\"])  # adding legend to figure\n",
    "axes[0,1].plot(x,y);\n",
    "axes[1,0].plot(x, np.sqrt(x))\n",
    "axes[1][1].plot(a, np.sqrt(b))\n",
    "# plt.tight_layout(pad=3, h_pad=3, w_pad=3)\n",
    "fig.subplots_adjust(wspace=0.5, hspace= 0.5);  # adjusting spaces between in figures using OOP method"
   ]
  },
  {
   "cell_type": "code",
   "execution_count": null,
   "id": "26b5a075",
   "metadata": {},
   "outputs": [],
   "source": []
  }
 ],
 "metadata": {
  "kernelspec": {
   "display_name": "Python 3 (ipykernel)",
   "language": "python",
   "name": "python3"
  },
  "language_info": {
   "codemirror_mode": {
    "name": "ipython",
    "version": 3
   },
   "file_extension": ".py",
   "mimetype": "text/x-python",
   "name": "python",
   "nbconvert_exporter": "python",
   "pygments_lexer": "ipython3",
   "version": "3.9.7"
  }
 },
 "nbformat": 4,
 "nbformat_minor": 5
}
